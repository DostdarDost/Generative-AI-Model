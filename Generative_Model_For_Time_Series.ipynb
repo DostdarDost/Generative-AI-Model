{
  "cells": [
    {
      "cell_type": "markdown",
      "metadata": {
        "id": "view-in-github",
        "colab_type": "text"
      },
      "source": [
        "<a href=\"https://colab.research.google.com/github/DostdarDost/Generative-AI-Model/blob/main/Generative_Model_For_Time_Series.ipynb\" target=\"_parent\"><img src=\"https://colab.research.google.com/assets/colab-badge.svg\" alt=\"Open In Colab\"/></a>"
      ]
    },
    {
      "cell_type": "markdown",
      "id": "30485290",
      "metadata": {
        "id": "30485290"
      },
      "source": [
        "# Generative AI Model\n"
      ]
    },
    {
      "cell_type": "markdown",
      "id": "189efb2d",
      "metadata": {
        "id": "189efb2d"
      },
      "source": [
        "## Preprocessing Time Series Data\n",
        "#### 1. Univeriate data set\n",
        "\n",
        "Time Series data holds a lot of information, but generally, it is not visible. The common problems associated with time series are un-ordered timestamps, missing values (or timestamps), outliers, and noise in the data. Of all the mentioned problems, handling the missing values is the most difficult one. Since the conventional imputation (A technique used to take care of the missing data by replacing the missing values to retain most of the information) methods are not applicable while working with the time series data. To analyze the real-time analysis of this preprocessing\n",
        "dataset for click here https://www.kaggle.com/datasets/rakannimer/air-passengers"
      ]
    },
    {
      "cell_type": "code",
      "execution_count": null,
      "id": "9e1284f2",
      "metadata": {
        "id": "9e1284f2"
      },
      "outputs": [],
      "source": [
        "import pandas as pd\n",
        "import numpy as np\n",
        "import matplotlib.pyplot as plt"
      ]
    },
    {
      "cell_type": "code",
      "execution_count": null,
      "id": "3f8cb815",
      "metadata": {
        "id": "3f8cb815",
        "outputId": "63804602-c8be-4baf-9d04-d3dda807231a"
      },
      "outputs": [
        {
          "data": {
            "text/html": [
              "<div>\n",
              "<style scoped>\n",
              "    .dataframe tbody tr th:only-of-type {\n",
              "        vertical-align: middle;\n",
              "    }\n",
              "\n",
              "    .dataframe tbody tr th {\n",
              "        vertical-align: top;\n",
              "    }\n",
              "\n",
              "    .dataframe thead th {\n",
              "        text-align: right;\n",
              "    }\n",
              "</style>\n",
              "<table border=\"1\" class=\"dataframe\">\n",
              "  <thead>\n",
              "    <tr style=\"text-align: right;\">\n",
              "      <th></th>\n",
              "      <th>Month</th>\n",
              "      <th>#Passengers</th>\n",
              "    </tr>\n",
              "  </thead>\n",
              "  <tbody>\n",
              "    <tr>\n",
              "      <th>0</th>\n",
              "      <td>1949-01</td>\n",
              "      <td>112</td>\n",
              "    </tr>\n",
              "    <tr>\n",
              "      <th>1</th>\n",
              "      <td>1949-02</td>\n",
              "      <td>118</td>\n",
              "    </tr>\n",
              "    <tr>\n",
              "      <th>2</th>\n",
              "      <td>1949-03</td>\n",
              "      <td>132</td>\n",
              "    </tr>\n",
              "    <tr>\n",
              "      <th>3</th>\n",
              "      <td>1949-04</td>\n",
              "      <td>129</td>\n",
              "    </tr>\n",
              "    <tr>\n",
              "      <th>4</th>\n",
              "      <td>1949-05</td>\n",
              "      <td>121</td>\n",
              "    </tr>\n",
              "  </tbody>\n",
              "</table>\n",
              "</div>"
            ],
            "text/plain": [
              "     Month  #Passengers\n",
              "0  1949-01          112\n",
              "1  1949-02          118\n",
              "2  1949-03          132\n",
              "3  1949-04          129\n",
              "4  1949-05          121"
            ]
          },
          "execution_count": 2,
          "metadata": {},
          "output_type": "execute_result"
        }
      ],
      "source": [
        "df = pd.read_csv('C:/Users/fvcds/Desktop/150$/Project/AirPassengers.csv')\n",
        "df.head(5)"
      ]
    },
    {
      "cell_type": "code",
      "execution_count": null,
      "id": "23e084a6",
      "metadata": {
        "id": "23e084a6",
        "outputId": "e1bef3a4-cc79-4736-b9f6-e01abdca5702"
      },
      "outputs": [
        {
          "data": {
            "text/html": [
              "<div>\n",
              "<style scoped>\n",
              "    .dataframe tbody tr th:only-of-type {\n",
              "        vertical-align: middle;\n",
              "    }\n",
              "\n",
              "    .dataframe tbody tr th {\n",
              "        vertical-align: top;\n",
              "    }\n",
              "\n",
              "    .dataframe thead th {\n",
              "        text-align: right;\n",
              "    }\n",
              "</style>\n",
              "<table border=\"1\" class=\"dataframe\">\n",
              "  <thead>\n",
              "    <tr style=\"text-align: right;\">\n",
              "      <th></th>\n",
              "      <th>#Passengers</th>\n",
              "    </tr>\n",
              "    <tr>\n",
              "      <th>Month</th>\n",
              "      <th></th>\n",
              "    </tr>\n",
              "  </thead>\n",
              "  <tbody>\n",
              "    <tr>\n",
              "      <th>1949-01-01</th>\n",
              "      <td>112</td>\n",
              "    </tr>\n",
              "    <tr>\n",
              "      <th>1949-02-01</th>\n",
              "      <td>118</td>\n",
              "    </tr>\n",
              "    <tr>\n",
              "      <th>1949-03-01</th>\n",
              "      <td>132</td>\n",
              "    </tr>\n",
              "    <tr>\n",
              "      <th>1949-04-01</th>\n",
              "      <td>129</td>\n",
              "    </tr>\n",
              "    <tr>\n",
              "      <th>1949-05-01</th>\n",
              "      <td>121</td>\n",
              "    </tr>\n",
              "  </tbody>\n",
              "</table>\n",
              "</div>"
            ],
            "text/plain": [
              "            #Passengers\n",
              "Month                  \n",
              "1949-01-01          112\n",
              "1949-02-01          118\n",
              "1949-03-01          132\n",
              "1949-04-01          129\n",
              "1949-05-01          121"
            ]
          },
          "execution_count": 3,
          "metadata": {},
          "output_type": "execute_result"
        }
      ],
      "source": [
        "df['Month'] = pd.to_datetime(df['Month'])\n",
        "df.set_index('Month', inplace=True)\n",
        "df.head(5)"
      ]
    },
    {
      "cell_type": "code",
      "execution_count": null,
      "id": "5355e0f3",
      "metadata": {
        "id": "5355e0f3",
        "outputId": "8db5aa8c-8626-485e-c15e-badcce976254"
      },
      "outputs": [
        {
          "data": {
            "image/png": "[encoded data removed]",
            "text/plain": [
              "<Figure size 720x360 with 1 Axes>"
            ]
          },
          "metadata": {
            "needs_background": "light"
          },
          "output_type": "display_data"
        }
      ],
      "source": [
        "# Resample the data to a specific frequency\n",
        "df = df.resample('MS').sum()\n",
        "\n",
        "# Fill missing values with a specified value or method\n",
        "df = df.fillna(method='ffill')\n",
        "\n",
        "# Remove outliers using the interquartile range (IQR) method\n",
        "Q1 = df.quantile(0.25)\n",
        "Q3 = df.quantile(0.75)\n",
        "IQR = Q3 - Q1\n",
        "df = df[~((df < (Q1 - 1.5 * IQR)) |(df > (Q3 + 1.5 * IQR))).any(axis=1)]\n",
        "\n",
        "# Smooth the data using a rolling average or exponential smoothing\n",
        "df['rolling_mean'] = df['#Passengers'].rolling(window=12).mean()\n",
        "df['exponential_smoothing'] = df['#Passengers'].ewm(alpha=0.2).mean()\n",
        "\n",
        "# Visualize the original and preprocessed data\n",
        "plt.figure(figsize=(10, 5))\n",
        "plt.plot(df.index, df['#Passengers'], label='Original Data')\n",
        "plt.plot(df.index, df['rolling_mean'], label='Rolling Mean')\n",
        "plt.plot(df.index, df['exponential_smoothing'], label='Exponential Smoothing')\n",
        "plt.legend(loc='best')\n",
        "plt.show()\n"
      ]
    },
    {
      "cell_type": "code",
      "execution_count": null,
      "id": "6cf59ec1",
      "metadata": {
        "id": "6cf59ec1",
        "outputId": "1eb72e3e-6735-4d05-ff75-29cd460985c4"
      },
      "outputs": [
        {
          "data": {
            "image/png": "[encoded data removed]",
            "text/plain": [
              "<Figure size 432x288 with 1 Axes>"
            ]
          },
          "metadata": {
            "needs_background": "light"
          },
          "output_type": "display_data"
        }
      ],
      "source": [
        "from sklearn.preprocessing import MinMaxScaler\n",
        "from scipy.spatial.distance import pdist, squareform\n",
        "# Normalize data\n",
        "scaler = MinMaxScaler()\n",
        "data = scaler.fit_transform(df[['#Passengers']])\n",
        "\n",
        "# Convert to two-dimensional matrix\n",
        "matrix = np.transpose(data)\n",
        "\n",
        "# Calculate distance matrix\n",
        "distances = pdist(matrix, metric='euclidean')\n",
        "distance_matrix = squareform(distances)\n",
        "\n",
        "# Create recurrence plot\n",
        "plt.imshow(distance_matrix, cmap='gray')\n",
        "plt.show()"
      ]
    },
    {
      "cell_type": "code",
      "execution_count": null,
      "id": "ec0ba92c",
      "metadata": {
        "id": "ec0ba92c",
        "outputId": "25e7f455-5e4e-43a4-9cc6-af48d44c6555"
      },
      "outputs": [
        {
          "data": {
            "text/plain": [
              "array([[0.]])"
            ]
          },
          "execution_count": 6,
          "metadata": {},
          "output_type": "execute_result"
        }
      ],
      "source": [
        "distance_matrix"
      ]
    },
    {
      "cell_type": "markdown",
      "id": "7e8c162f",
      "metadata": {
        "id": "7e8c162f"
      },
      "source": [
        "### 2. Multivarate dataset\n",
        "#### Algroithm 1\n",
        "##### Time series dataset to Images dateset using Reccurenc plot and apply CNN model\n",
        "\n",
        "For analysis you can download dataset https://www.kaggle.com/datasets/atulanandjha/national-stock-exchange-time-series\n"
      ]
    },
    {
      "cell_type": "code",
      "execution_count": null,
      "id": "00debd8b",
      "metadata": {
        "id": "00debd8b",
        "outputId": "b3960e3f-0c23-4b5e-dac8-d82d744dd07e"
      },
      "outputs": [
        {
          "data": {
            "text/html": [
              "<div>\n",
              "<style scoped>\n",
              "    .dataframe tbody tr th:only-of-type {\n",
              "        vertical-align: middle;\n",
              "    }\n",
              "\n",
              "    .dataframe tbody tr th {\n",
              "        vertical-align: top;\n",
              "    }\n",
              "\n",
              "    .dataframe thead th {\n",
              "        text-align: right;\n",
              "    }\n",
              "</style>\n",
              "<table border=\"1\" class=\"dataframe\">\n",
              "  <thead>\n",
              "    <tr style=\"text-align: right;\">\n",
              "      <th></th>\n",
              "      <th>Date</th>\n",
              "      <th>Symbol</th>\n",
              "      <th>Series</th>\n",
              "      <th>Prev Close</th>\n",
              "      <th>Open</th>\n",
              "      <th>High</th>\n",
              "      <th>Low</th>\n",
              "      <th>Last</th>\n",
              "      <th>Close</th>\n",
              "      <th>VWAP</th>\n",
              "      <th>Volume</th>\n",
              "      <th>Turnover</th>\n",
              "      <th>Trades</th>\n",
              "      <th>Deliverable Volume</th>\n",
              "      <th>%Deliverble</th>\n",
              "    </tr>\n",
              "  </thead>\n",
              "  <tbody>\n",
              "    <tr>\n",
              "      <th>0</th>\n",
              "      <td>2015-01-01</td>\n",
              "      <td>INFY</td>\n",
              "      <td>EQ</td>\n",
              "      <td>1972.55</td>\n",
              "      <td>1968.95</td>\n",
              "      <td>1982.00</td>\n",
              "      <td>1956.9</td>\n",
              "      <td>1971.00</td>\n",
              "      <td>1974.40</td>\n",
              "      <td>1971.34</td>\n",
              "      <td>500691</td>\n",
              "      <td>9.870306e+13</td>\n",
              "      <td>14908</td>\n",
              "      <td>258080</td>\n",
              "      <td>0.5154</td>\n",
              "    </tr>\n",
              "    <tr>\n",
              "      <th>1</th>\n",
              "      <td>2015-01-02</td>\n",
              "      <td>INFY</td>\n",
              "      <td>EQ</td>\n",
              "      <td>1974.40</td>\n",
              "      <td>1972.00</td>\n",
              "      <td>2019.05</td>\n",
              "      <td>1972.0</td>\n",
              "      <td>2017.95</td>\n",
              "      <td>2013.20</td>\n",
              "      <td>2003.25</td>\n",
              "      <td>1694580</td>\n",
              "      <td>3.394669e+14</td>\n",
              "      <td>54166</td>\n",
              "      <td>1249104</td>\n",
              "      <td>0.7371</td>\n",
              "    </tr>\n",
              "    <tr>\n",
              "      <th>2</th>\n",
              "      <td>2015-01-05</td>\n",
              "      <td>INFY</td>\n",
              "      <td>EQ</td>\n",
              "      <td>2013.20</td>\n",
              "      <td>2009.90</td>\n",
              "      <td>2030.00</td>\n",
              "      <td>1977.5</td>\n",
              "      <td>1996.00</td>\n",
              "      <td>1995.90</td>\n",
              "      <td>2004.59</td>\n",
              "      <td>2484256</td>\n",
              "      <td>4.979911e+14</td>\n",
              "      <td>82694</td>\n",
              "      <td>1830962</td>\n",
              "      <td>0.7370</td>\n",
              "    </tr>\n",
              "    <tr>\n",
              "      <th>3</th>\n",
              "      <td>2015-01-06</td>\n",
              "      <td>INFY</td>\n",
              "      <td>EQ</td>\n",
              "      <td>1995.90</td>\n",
              "      <td>1980.00</td>\n",
              "      <td>1985.00</td>\n",
              "      <td>1934.1</td>\n",
              "      <td>1965.10</td>\n",
              "      <td>1954.20</td>\n",
              "      <td>1954.82</td>\n",
              "      <td>2416829</td>\n",
              "      <td>4.724458e+14</td>\n",
              "      <td>108209</td>\n",
              "      <td>1772070</td>\n",
              "      <td>0.7332</td>\n",
              "    </tr>\n",
              "    <tr>\n",
              "      <th>4</th>\n",
              "      <td>2015-01-07</td>\n",
              "      <td>INFY</td>\n",
              "      <td>EQ</td>\n",
              "      <td>1954.20</td>\n",
              "      <td>1965.00</td>\n",
              "      <td>1974.75</td>\n",
              "      <td>1950.0</td>\n",
              "      <td>1966.05</td>\n",
              "      <td>1963.55</td>\n",
              "      <td>1962.59</td>\n",
              "      <td>1812479</td>\n",
              "      <td>3.557162e+14</td>\n",
              "      <td>62463</td>\n",
              "      <td>1317720</td>\n",
              "      <td>0.7270</td>\n",
              "    </tr>\n",
              "  </tbody>\n",
              "</table>\n",
              "</div>"
            ],
            "text/plain": [
              "         Date Symbol Series  Prev Close     Open     High     Low     Last  \\\n",
              "0  2015-01-01   INFY     EQ     1972.55  1968.95  1982.00  1956.9  1971.00   \n",
              "1  2015-01-02   INFY     EQ     1974.40  1972.00  2019.05  1972.0  2017.95   \n",
              "2  2015-01-05   INFY     EQ     2013.20  2009.90  2030.00  1977.5  1996.00   \n",
              "3  2015-01-06   INFY     EQ     1995.90  1980.00  1985.00  1934.1  1965.10   \n",
              "4  2015-01-07   INFY     EQ     1954.20  1965.00  1974.75  1950.0  1966.05   \n",
              "\n",
              "     Close     VWAP   Volume      Turnover  Trades  Deliverable Volume  \\\n",
              "0  1974.40  1971.34   500691  9.870306e+13   14908              258080   \n",
              "1  2013.20  2003.25  1694580  3.394669e+14   54166             1249104   \n",
              "2  1995.90  2004.59  2484256  4.979911e+14   82694             1830962   \n",
              "3  1954.20  1954.82  2416829  4.724458e+14  108209             1772070   \n",
              "4  1963.55  1962.59  1812479  3.557162e+14   62463             1317720   \n",
              "\n",
              "   %Deliverble  \n",
              "0       0.5154  \n",
              "1       0.7371  \n",
              "2       0.7370  \n",
              "3       0.7332  \n",
              "4       0.7270  "
            ]
          },
          "execution_count": 2,
          "metadata": {},
          "output_type": "execute_result"
        }
      ],
      "source": [
        "import pandas as pd\n",
        "data = pd.read_csv('C:/Users/fvcds/Desktop/150$/Project/infy_stock.csv')\n",
        "data.head(5)\n"
      ]
    },
    {
      "cell_type": "markdown",
      "id": "2d12adfe",
      "metadata": {
        "id": "2d12adfe"
      },
      "source": [
        "To get columns from a dataset and create a subset, you can use the square bracket notation to select the columns of interest. For example, to create a subset of your df DataFrame with only seleted columns, you can do:"
      ]
    },
    {
      "cell_type": "code",
      "execution_count": null,
      "id": "aa9e89e1",
      "metadata": {
        "id": "aa9e89e1",
        "outputId": "c06becd2-171d-42b8-d246-5076ec9fce12"
      },
      "outputs": [
        {
          "name": "stdout",
          "output_type": "stream",
          "text": [
            "Data: (248, 15)\n",
            "subset: (248, 6)\n"
          ]
        }
      ],
      "source": [
        "subset = data[['Date', 'Open','High', 'Low','Close', 'Volume']]\n",
        "subset.head(5)\n",
        "# Print the shapes of data and subset\n",
        "print('Data:', data.shape)\n",
        "print('subset:', subset.shape)"
      ]
    },
    {
      "cell_type": "code",
      "execution_count": null,
      "id": "ba262291",
      "metadata": {
        "id": "ba262291",
        "outputId": "e580fb82-28be-460a-bbef-ee7e412c2ff9"
      },
      "outputs": [
        {
          "name": "stderr",
          "output_type": "stream",
          "text": [
            "<ipython-input-4-fd58749938b2>:1: SettingWithCopyWarning: \n",
            "A value is trying to be set on a copy of a slice from a DataFrame.\n",
            "Try using .loc[row_indexer,col_indexer] = value instead\n",
            "\n",
            "See the caveats in the documentation: https://pandas.pydata.org/pandas-docs/stable/user_guide/indexing.html#returning-a-view-versus-a-copy\n",
            "  subset['Date'] = pd.to_datetime(subset['Date'])\n"
          ]
        },
        {
          "data": {
            "text/html": [
              "<div>\n",
              "<style scoped>\n",
              "    .dataframe tbody tr th:only-of-type {\n",
              "        vertical-align: middle;\n",
              "    }\n",
              "\n",
              "    .dataframe tbody tr th {\n",
              "        vertical-align: top;\n",
              "    }\n",
              "\n",
              "    .dataframe thead th {\n",
              "        text-align: right;\n",
              "    }\n",
              "</style>\n",
              "<table border=\"1\" class=\"dataframe\">\n",
              "  <thead>\n",
              "    <tr style=\"text-align: right;\">\n",
              "      <th></th>\n",
              "      <th>Open</th>\n",
              "      <th>High</th>\n",
              "      <th>Low</th>\n",
              "      <th>Close</th>\n",
              "      <th>Volume</th>\n",
              "    </tr>\n",
              "    <tr>\n",
              "      <th>Date</th>\n",
              "      <th></th>\n",
              "      <th></th>\n",
              "      <th></th>\n",
              "      <th></th>\n",
              "      <th></th>\n",
              "    </tr>\n",
              "  </thead>\n",
              "  <tbody>\n",
              "    <tr>\n",
              "      <th>2015-01-01</th>\n",
              "      <td>1968.95</td>\n",
              "      <td>1982.00</td>\n",
              "      <td>1956.9</td>\n",
              "      <td>1974.40</td>\n",
              "      <td>500691</td>\n",
              "    </tr>\n",
              "    <tr>\n",
              "      <th>2015-01-02</th>\n",
              "      <td>1972.00</td>\n",
              "      <td>2019.05</td>\n",
              "      <td>1972.0</td>\n",
              "      <td>2013.20</td>\n",
              "      <td>1694580</td>\n",
              "    </tr>\n",
              "    <tr>\n",
              "      <th>2015-01-05</th>\n",
              "      <td>2009.90</td>\n",
              "      <td>2030.00</td>\n",
              "      <td>1977.5</td>\n",
              "      <td>1995.90</td>\n",
              "      <td>2484256</td>\n",
              "    </tr>\n",
              "    <tr>\n",
              "      <th>2015-01-06</th>\n",
              "      <td>1980.00</td>\n",
              "      <td>1985.00</td>\n",
              "      <td>1934.1</td>\n",
              "      <td>1954.20</td>\n",
              "      <td>2416829</td>\n",
              "    </tr>\n",
              "    <tr>\n",
              "      <th>2015-01-07</th>\n",
              "      <td>1965.00</td>\n",
              "      <td>1974.75</td>\n",
              "      <td>1950.0</td>\n",
              "      <td>1963.55</td>\n",
              "      <td>1812479</td>\n",
              "    </tr>\n",
              "  </tbody>\n",
              "</table>\n",
              "</div>"
            ],
            "text/plain": [
              "               Open     High     Low    Close   Volume\n",
              "Date                                                  \n",
              "2015-01-01  1968.95  1982.00  1956.9  1974.40   500691\n",
              "2015-01-02  1972.00  2019.05  1972.0  2013.20  1694580\n",
              "2015-01-05  2009.90  2030.00  1977.5  1995.90  2484256\n",
              "2015-01-06  1980.00  1985.00  1934.1  1954.20  2416829\n",
              "2015-01-07  1965.00  1974.75  1950.0  1963.55  1812479"
            ]
          },
          "execution_count": 4,
          "metadata": {},
          "output_type": "execute_result"
        }
      ],
      "source": [
        "subset['Date'] = pd.to_datetime(subset['Date'])\n",
        "subset.set_index('Date', inplace=True)\n",
        "subset.head(5)\n"
      ]
    },
    {
      "cell_type": "code",
      "execution_count": null,
      "id": "b34fa3ac",
      "metadata": {
        "id": "b34fa3ac",
        "outputId": "eedc1215-d87f-4960-f752-6483459a1725"
      },
      "outputs": [
        {
          "data": {
            "text/html": [
              "<div>\n",
              "<style scoped>\n",
              "    .dataframe tbody tr th:only-of-type {\n",
              "        vertical-align: middle;\n",
              "    }\n",
              "\n",
              "    .dataframe tbody tr th {\n",
              "        vertical-align: top;\n",
              "    }\n",
              "\n",
              "    .dataframe thead th {\n",
              "        text-align: right;\n",
              "    }\n",
              "</style>\n",
              "<table border=\"1\" class=\"dataframe\">\n",
              "  <thead>\n",
              "    <tr style=\"text-align: right;\">\n",
              "      <th></th>\n",
              "      <th>Date</th>\n",
              "      <th>Open</th>\n",
              "      <th>High</th>\n",
              "      <th>Low</th>\n",
              "      <th>Close</th>\n",
              "      <th>Volume</th>\n",
              "    </tr>\n",
              "  </thead>\n",
              "  <tbody>\n",
              "    <tr>\n",
              "      <th>0</th>\n",
              "      <td>False</td>\n",
              "      <td>False</td>\n",
              "      <td>False</td>\n",
              "      <td>False</td>\n",
              "      <td>False</td>\n",
              "      <td>False</td>\n",
              "    </tr>\n",
              "    <tr>\n",
              "      <th>1</th>\n",
              "      <td>False</td>\n",
              "      <td>False</td>\n",
              "      <td>False</td>\n",
              "      <td>False</td>\n",
              "      <td>False</td>\n",
              "      <td>False</td>\n",
              "    </tr>\n",
              "    <tr>\n",
              "      <th>2</th>\n",
              "      <td>False</td>\n",
              "      <td>False</td>\n",
              "      <td>False</td>\n",
              "      <td>False</td>\n",
              "      <td>False</td>\n",
              "      <td>False</td>\n",
              "    </tr>\n",
              "    <tr>\n",
              "      <th>3</th>\n",
              "      <td>False</td>\n",
              "      <td>False</td>\n",
              "      <td>False</td>\n",
              "      <td>False</td>\n",
              "      <td>False</td>\n",
              "      <td>False</td>\n",
              "    </tr>\n",
              "    <tr>\n",
              "      <th>4</th>\n",
              "      <td>False</td>\n",
              "      <td>False</td>\n",
              "      <td>False</td>\n",
              "      <td>False</td>\n",
              "      <td>False</td>\n",
              "      <td>False</td>\n",
              "    </tr>\n",
              "    <tr>\n",
              "      <th>...</th>\n",
              "      <td>...</td>\n",
              "      <td>...</td>\n",
              "      <td>...</td>\n",
              "      <td>...</td>\n",
              "      <td>...</td>\n",
              "      <td>...</td>\n",
              "    </tr>\n",
              "    <tr>\n",
              "      <th>243</th>\n",
              "      <td>False</td>\n",
              "      <td>False</td>\n",
              "      <td>False</td>\n",
              "      <td>False</td>\n",
              "      <td>False</td>\n",
              "      <td>False</td>\n",
              "    </tr>\n",
              "    <tr>\n",
              "      <th>244</th>\n",
              "      <td>False</td>\n",
              "      <td>False</td>\n",
              "      <td>False</td>\n",
              "      <td>False</td>\n",
              "      <td>False</td>\n",
              "      <td>False</td>\n",
              "    </tr>\n",
              "    <tr>\n",
              "      <th>245</th>\n",
              "      <td>False</td>\n",
              "      <td>False</td>\n",
              "      <td>False</td>\n",
              "      <td>False</td>\n",
              "      <td>False</td>\n",
              "      <td>False</td>\n",
              "    </tr>\n",
              "    <tr>\n",
              "      <th>246</th>\n",
              "      <td>False</td>\n",
              "      <td>False</td>\n",
              "      <td>False</td>\n",
              "      <td>False</td>\n",
              "      <td>False</td>\n",
              "      <td>False</td>\n",
              "    </tr>\n",
              "    <tr>\n",
              "      <th>247</th>\n",
              "      <td>False</td>\n",
              "      <td>False</td>\n",
              "      <td>False</td>\n",
              "      <td>False</td>\n",
              "      <td>False</td>\n",
              "      <td>False</td>\n",
              "    </tr>\n",
              "  </tbody>\n",
              "</table>\n",
              "<p>248 rows × 6 columns</p>\n",
              "</div>"
            ],
            "text/plain": [
              "      Date   Open   High    Low  Close  Volume\n",
              "0    False  False  False  False  False   False\n",
              "1    False  False  False  False  False   False\n",
              "2    False  False  False  False  False   False\n",
              "3    False  False  False  False  False   False\n",
              "4    False  False  False  False  False   False\n",
              "..     ...    ...    ...    ...    ...     ...\n",
              "243  False  False  False  False  False   False\n",
              "244  False  False  False  False  False   False\n",
              "245  False  False  False  False  False   False\n",
              "246  False  False  False  False  False   False\n",
              "247  False  False  False  False  False   False\n",
              "\n",
              "[248 rows x 6 columns]"
            ]
          },
          "execution_count": 9,
          "metadata": {},
          "output_type": "execute_result"
        }
      ],
      "source": [
        "subset.isna()"
      ]
    },
    {
      "cell_type": "code",
      "execution_count": null,
      "id": "06429238",
      "metadata": {
        "id": "06429238",
        "outputId": "e1069ead-2873-43e7-d21f-b712f6575d56"
      },
      "outputs": [
        {
          "data": {
            "text/plain": [
              "Date      0\n",
              "Open      0\n",
              "High      0\n",
              "Low       0\n",
              "Close     0\n",
              "Volume    0\n",
              "dtype: int64"
            ]
          },
          "execution_count": 10,
          "metadata": {},
          "output_type": "execute_result"
        }
      ],
      "source": [
        "subset.isna().sum()"
      ]
    },
    {
      "cell_type": "code",
      "execution_count": null,
      "id": "b107863b",
      "metadata": {
        "id": "b107863b",
        "outputId": "b000b20a-f390-4c6b-cdc8-8e6091c442af"
      },
      "outputs": [
        {
          "ename": "NameError",
          "evalue": "name 'plt' is not defined",
          "output_type": "error",
          "traceback": [
            "\u001b[1;31m---------------------------------------------------------------------------\u001b[0m",
            "\u001b[1;31mNameError\u001b[0m                                 Traceback (most recent call last)",
            "\u001b[1;32m<ipython-input-5-e6b0e0be0da3>\u001b[0m in \u001b[0;36m<module>\u001b[1;34m\u001b[0m\n\u001b[0;32m      1\u001b[0m \u001b[1;31m# Plot all variables\u001b[0m\u001b[1;33m\u001b[0m\u001b[1;33m\u001b[0m\u001b[1;33m\u001b[0m\u001b[0m\n\u001b[0;32m      2\u001b[0m \u001b[0msubset\u001b[0m\u001b[1;33m.\u001b[0m\u001b[0mplot\u001b[0m\u001b[1;33m(\u001b[0m\u001b[0mfigsize\u001b[0m\u001b[1;33m=\u001b[0m\u001b[1;33m(\u001b[0m\u001b[1;36m10\u001b[0m\u001b[1;33m,\u001b[0m \u001b[1;36m5\u001b[0m\u001b[1;33m)\u001b[0m\u001b[1;33m)\u001b[0m\u001b[1;33m\u001b[0m\u001b[1;33m\u001b[0m\u001b[0m\n\u001b[1;32m----> 3\u001b[1;33m \u001b[0mplt\u001b[0m\u001b[1;33m.\u001b[0m\u001b[0mshow\u001b[0m\u001b[1;33m(\u001b[0m\u001b[1;33m)\u001b[0m\u001b[1;33m\u001b[0m\u001b[1;33m\u001b[0m\u001b[0m\n\u001b[0m",
            "\u001b[1;31mNameError\u001b[0m: name 'plt' is not defined"
          ]
        },
        {
          "data": {
            "image/png": "[encoded data removed]",
            "text/plain": [
              "<Figure size 720x360 with 1 Axes>"
            ]
          },
          "metadata": {
            "needs_background": "light"
          },
          "output_type": "display_data"
        }
      ],
      "source": [
        "# Plot all variables\n",
        "subset.plot(figsize=(10, 5))\n",
        "plt.show()\n"
      ]
    },
    {
      "cell_type": "code",
      "execution_count": null,
      "id": "2c1c7d50",
      "metadata": {
        "id": "2c1c7d50"
      },
      "outputs": [],
      "source": [
        "from sklearn.preprocessing import MinMaxScaler\n",
        "\n",
        "# Normalize data\n",
        "scaler = MinMaxScaler()\n",
        "data = scaler.fit_transform(subset[['Open', 'High', 'Low', 'Close', 'Volume']])"
      ]
    },
    {
      "cell_type": "code",
      "execution_count": null,
      "id": "3a172eac",
      "metadata": {
        "id": "3a172eac",
        "outputId": "9d157ca0-29c7-458e-c4c2-d9b3ecf98263"
      },
      "outputs": [
        {
          "name": "stdout",
          "output_type": "stream",
          "text": [
            "df: (248, 5)\n"
          ]
        }
      ],
      "source": [
        "df = subset[[ 'Open','High', 'Low','Close', 'Volume']]\n",
        "df.head(5)\n",
        "#\n",
        "print('df:', df.shape)"
      ]
    },
    {
      "cell_type": "code",
      "execution_count": null,
      "id": "b738d54f",
      "metadata": {
        "id": "b738d54f"
      },
      "outputs": [],
      "source": [
        "from pyts.image import RecurrencePlot\n",
        "# Convert each time series into a recurrence plot\n",
        "rp = RecurrencePlot(threshold='point', percentage=20)\n",
        "rp_images = []\n",
        "labels = []\n",
        "for i in range(1, len(df)):\n",
        "    time_series = df.iloc[i].values\n",
        "    rp_image = rp.fit_transform(time_series.reshape(1, -1))[0]\n",
        "    rp_images.append(rp_image)\n",
        "    # Assign label based on some condition (e.g. whether the stock price goes up or down)\n",
        "    if df['Close'][i] > df['Close'][i-1]:\n",
        "        labels.append(1)\n",
        "    else:\n",
        "        labels.append(0)\n",
        "\n",
        "\n",
        "# Convert list of images and labels to numpy arrays\n",
        "rp_images = np.array(rp_images)\n",
        "labels = np.array(labels)\n",
        "# Save the image dataset\n",
        "np.save('image_data.npy', rp_images)\n",
        "np.save('labels.npy', labels)"
      ]
    },
    {
      "cell_type": "code",
      "execution_count": null,
      "id": "a69d9e7e",
      "metadata": {
        "id": "a69d9e7e",
        "outputId": "be6f0763-35c0-425d-d0b6-bcb3301207e4"
      },
      "outputs": [
        {
          "name": "stdout",
          "output_type": "stream",
          "text": [
            "(247, 5, 5)\n"
          ]
        }
      ],
      "source": [
        "print(rp_images.shape)\n"
      ]
    },
    {
      "cell_type": "code",
      "execution_count": null,
      "id": "f4e83318",
      "metadata": {
        "id": "f4e83318",
        "outputId": "5f15c8c2-c693-49a6-c89e-8aba28a563de"
      },
      "outputs": [
        {
          "data": {
            "image/png": "[encoded data removed]",
            "text/plain": [
              "<Figure size 432x288 with 1 Axes>"
            ]
          },
          "metadata": {
            "needs_background": "light"
          },
          "output_type": "display_data"
        },
        {
          "data": {
            "image/png": "[encoded data removed]",
            "text/plain": [
              "<Figure size 432x288 with 1 Axes>"
            ]
          },
          "metadata": {
            "needs_background": "light"
          },
          "output_type": "display_data"
        },
        {
          "data": {
            "image/png": "[encoded data removed]",
            "text/plain": [
              "<Figure size 432x288 with 1 Axes>"
            ]
          },
          "metadata": {
            "needs_background": "light"
          },
          "output_type": "display_data"
        },
        {
          "data": {
            "image/png": "[encoded data removed]",
            "text/plain": [
              "<Figure size 432x288 with 1 Axes>"
            ]
          },
          "metadata": {
            "needs_background": "light"
          },
          "output_type": "display_data"
        },
        {
          "data": {
            "image/png": "[encoded data removed]",
            "text/plain": [
              "<Figure size 432x288 with 1 Axes>"
            ]
          },
          "metadata": {
            "needs_background": "light"
          },
          "output_type": "display_data"
        }
      ],
      "source": [
        "import matplotlib.pyplot as plt\n",
        "\n",
        "# Show the first 5 images\n",
        "for i in range(5):\n",
        "    plt.imshow(rp_images[i], cmap='binary', origin='lower')\n",
        "    plt.title('Label: {}'.format(labels[i]))\n",
        "    plt.show()\n"
      ]
    },
    {
      "cell_type": "code",
      "execution_count": null,
      "id": "732f2f99",
      "metadata": {
        "id": "732f2f99",
        "outputId": "89da5c6e-e430-4354-836c-c0723d617e33"
      },
      "outputs": [
        {
          "data": {
            "image/png": "[encoded data removed]",
            "text/plain": [
              "<Figure size 720x432 with 15 Axes>"
            ]
          },
          "metadata": {
            "needs_background": "light"
          },
          "output_type": "display_data"
        }
      ],
      "source": [
        "import matplotlib.pyplot as plt\n",
        "\n",
        "# Show the first 15 images in a grid\n",
        "fig, axes = plt.subplots(nrows=3, ncols=5, figsize=(10,6))\n",
        "for i, ax in enumerate(axes.flat):\n",
        "    ax.imshow(rp_images[i], cmap='binary', origin='lower')\n",
        "    ax.set_title('Label: {}'.format(labels[i]))\n",
        "    ax.axis('off')\n",
        "plt.show()\n"
      ]
    },
    {
      "cell_type": "code",
      "execution_count": null,
      "id": "d50da063",
      "metadata": {
        "id": "d50da063",
        "outputId": "099e7abf-c869-46b8-82da-2a94561ccdbf"
      },
      "outputs": [
        {
          "name": "stdout",
          "output_type": "stream",
          "text": [
            "X shape: (247, 5, 5)\n",
            "y shape: (247,)\n"
          ]
        }
      ],
      "source": [
        "import numpy as np\n",
        "\n",
        "# Load the image data\n",
        "X = np.load('image_data.npy')\n",
        "\n",
        "# Load the labels\n",
        "y = np.load('labels.npy')\n",
        "\n",
        "# Print the shapes of X and y\n",
        "print('X shape:', X.shape)\n",
        "print('y shape:', y.shape)\n"
      ]
    },
    {
      "cell_type": "markdown",
      "id": "a8c42626",
      "metadata": {
        "id": "a8c42626"
      },
      "source": [
        "To split the dataset into train and test sets, we can use the train_test_split function from the scikit-learn library. Here's an example of how to split the data with 80% for training and 20% for testing:"
      ]
    },
    {
      "cell_type": "code",
      "execution_count": null,
      "id": "612fdf82",
      "metadata": {
        "id": "612fdf82",
        "outputId": "733e092a-040a-4831-9a2d-da95cc9a5fad"
      },
      "outputs": [
        {
          "name": "stdout",
          "output_type": "stream",
          "text": [
            "X_train (197, 5, 5)\n",
            "y_train (197,)\n"
          ]
        },
        {
          "data": {
            "text/plain": [
              "197"
            ]
          },
          "execution_count": 14,
          "metadata": {},
          "output_type": "execute_result"
        }
      ],
      "source": [
        "from sklearn.model_selection import train_test_split\n",
        "\n",
        "X_train, X_test, y_train, y_test = train_test_split(X, y, test_size=0.2, random_state=42)\n",
        "print('X_train',X_train.shape)\n",
        "print('y_train', y_train.shape)\n",
        "X_train.shape[1]\n",
        "X_train.shape[2]\n",
        "X_train.shape[0]"
      ]
    },
    {
      "cell_type": "markdown",
      "id": "48340f53",
      "metadata": {
        "id": "48340f53"
      },
      "source": [
        "### Define CNN model and Train"
      ]
    },
    {
      "cell_type": "code",
      "execution_count": null,
      "id": "9d4a8d44",
      "metadata": {
        "id": "9d4a8d44",
        "outputId": "3da30002-c843-4d40-9cc1-fb59d3082aa9"
      },
      "outputs": [
        {
          "name": "stdout",
          "output_type": "stream",
          "text": [
            "Epoch 1/10\n",
            "5/5 [==============================] - 5s 117ms/step - loss: 2.3808 - accuracy: 0.0510 - val_loss: 2.3312 - val_accuracy: 0.0500\n",
            "Epoch 2/10\n",
            "5/5 [==============================] - 0s 20ms/step - loss: 2.3013 - accuracy: 0.1274 - val_loss: 2.2486 - val_accuracy: 0.5750\n",
            "Epoch 3/10\n",
            "5/5 [==============================] - 0s 15ms/step - loss: 2.2250 - accuracy: 0.5032 - val_loss: 2.1683 - val_accuracy: 0.5750\n",
            "Epoch 4/10\n",
            "5/5 [==============================] - 0s 14ms/step - loss: 2.1519 - accuracy: 0.5032 - val_loss: 2.0924 - val_accuracy: 0.5750\n",
            "Epoch 5/10\n",
            "5/5 [==============================] - 0s 13ms/step - loss: 2.0818 - accuracy: 0.5032 - val_loss: 2.0186 - val_accuracy: 0.5750\n",
            "Epoch 6/10\n",
            "5/5 [==============================] - 0s 15ms/step - loss: 2.0128 - accuracy: 0.5032 - val_loss: 1.9452 - val_accuracy: 0.5750\n",
            "Epoch 7/10\n",
            "5/5 [==============================] - 0s 14ms/step - loss: 1.9441 - accuracy: 0.5032 - val_loss: 1.8727 - val_accuracy: 0.5750\n",
            "Epoch 8/10\n",
            "5/5 [==============================] - 0s 14ms/step - loss: 1.8757 - accuracy: 0.5032 - val_loss: 1.7994 - val_accuracy: 0.5750\n",
            "Epoch 9/10\n",
            "5/5 [==============================] - 0s 13ms/step - loss: 1.8072 - accuracy: 0.5032 - val_loss: 1.7267 - val_accuracy: 0.5750\n",
            "Epoch 10/10\n",
            "5/5 [==============================] - 0s 15ms/step - loss: 1.7387 - accuracy: 0.5032 - val_loss: 1.6540 - val_accuracy: 0.5750\n"
          ]
        },
        {
          "data": {
            "text/plain": [
              "<keras.callbacks.History at 0x29e53884fa0>"
            ]
          },
          "execution_count": 15,
          "metadata": {},
          "output_type": "execute_result"
        }
      ],
      "source": [
        "from tensorflow.keras.models import Sequential\n",
        "from tensorflow.keras.layers import Conv2D, MaxPooling2D, Flatten, Dense\n",
        "\n",
        "# Define the model architecture\n",
        "model = Sequential([\n",
        "    Conv2D(32, (3,3), activation='relu', input_shape=(5,5,1)),\n",
        "    MaxPooling2D((2,2)),\n",
        "    Flatten(),\n",
        "    Dense(10, activation='softmax')\n",
        "])\n",
        "\n",
        "# Compile the model\n",
        "model.compile(optimizer='adam', loss='sparse_categorical_crossentropy', metrics=['accuracy'])\n",
        "\n",
        "# Train the model\n",
        "model.fit(X_train, y_train, epochs=10, validation_split=0.2)\n"
      ]
    },
    {
      "cell_type": "markdown",
      "id": "062649bf",
      "metadata": {
        "id": "062649bf"
      },
      "source": [
        "### Prediction"
      ]
    },
    {
      "cell_type": "code",
      "execution_count": null,
      "id": "44aea03b",
      "metadata": {
        "id": "44aea03b",
        "outputId": "4571b82c-9298-41cf-adc0-19090475dd7a"
      },
      "outputs": [
        {
          "data": {
            "image/png": "[encoded data removed]",
            "text/plain": [
              "<Figure size 576x576 with 36 Axes>"
            ]
          },
          "metadata": {
            "needs_background": "light"
          },
          "output_type": "display_data"
        }
      ],
      "source": [
        "# Visualize the classification results\n",
        "y_pred = model.predict(X_test).flatten()\n",
        "plt.figure(figsize=(8, 8))\n",
        "for i in range(min(36, X_test.shape[0])):\n",
        "    plt.subplot(6, 6, i+1)\n",
        "    plt.imshow(X_test[i], cmap='binary', origin='lower')\n",
        "    plt.title('True: %s\\nPredict: %s' % (y_test[i], round(y_pred[i])))\n",
        "    plt.axis('off')\n",
        "plt.show()"
      ]
    }
  ],
  "metadata": {
    "kernelspec": {
      "display_name": "Python 3",
      "language": "python",
      "name": "python3"
    },
    "language_info": {
      "codemirror_mode": {
        "name": "ipython",
        "version": 3
      },
      "file_extension": ".py",
      "mimetype": "text/x-python",
      "name": "python",
      "nbconvert_exporter": "python",
      "pygments_lexer": "ipython3",
      "version": "3.8.8"
    },
    "colab": {
      "provenance": [],
      "toc_visible": true,
      "include_colab_link": true
    }
  },
  "nbformat": 4,
  "nbformat_minor": 5
}